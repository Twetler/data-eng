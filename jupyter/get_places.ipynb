{
 "cells": [
  {
   "cell_type": "markdown",
   "id": "a9565cd3-4924-42fe-9b95-edb2f8c539ac",
   "metadata": {},
   "source": [
    "# Get Places\n",
    "\n",
    "We will study the layout of the output from the API"
   ]
  },
  {
   "cell_type": "code",
   "execution_count": 1,
   "id": "74cf4aec-0801-461d-a0c2-7869a256a8b1",
   "metadata": {},
   "outputs": [],
   "source": [
    "import pandas as pd\n",
    "import json\n",
    "import folium\n",
    "import itertools\n",
    "import os"
   ]
  },
  {
   "cell_type": "code",
   "execution_count": 2,
   "id": "6ee4e1ae-6bd5-4e69-9aa4-c5ec953af866",
   "metadata": {},
   "outputs": [],
   "source": [
    "# Load json \n",
    "walk_path: str = \"../tmp/\"\n",
    "samples: list = list()\n",
    "for _,_, files in os.walk(walk_path):\n",
    "    for file in files:\n",
    "        if not os.path.isdir(file):\n",
    "            fullpath = os.path.join(walk_path, file)\n",
    "            with open(fullpath) as f:\n",
    "                loaded_var: dict = json.load(f)\n",
    "            results: list[dict] = loaded_var['results']\n",
    "            samples.append(results)\n",
    "        else: \n",
    "            pass\n",
    "\n",
    "unpacked_samples = list(itertools.chain(*samples))"
   ]
  },
  {
   "cell_type": "markdown",
   "id": "c6af12f9-789d-405f-bca6-cdf08affbeb6",
   "metadata": {},
   "source": [
    "# So now we have our requests listed inside a list variable\n",
    "We gotta load it into a DataFrame, define a basic structure and upload it to BigQuery"
   ]
  },
  {
   "cell_type": "code",
   "execution_count": 3,
   "id": "a755a86f-29d8-487c-b5a5-fcbf3fbaa2e1",
   "metadata": {},
   "outputs": [
    {
     "data": {
      "text/html": [
       "<div>\n",
       "<style scoped>\n",
       "    .dataframe tbody tr th:only-of-type {\n",
       "        vertical-align: middle;\n",
       "    }\n",
       "\n",
       "    .dataframe tbody tr th {\n",
       "        vertical-align: top;\n",
       "    }\n",
       "\n",
       "    .dataframe thead th {\n",
       "        text-align: right;\n",
       "    }\n",
       "</style>\n",
       "<table border=\"1\" class=\"dataframe\">\n",
       "  <thead>\n",
       "    <tr style=\"text-align: right;\">\n",
       "      <th></th>\n",
       "      <th>fsq_id</th>\n",
       "      <th>categories</th>\n",
       "      <th>features</th>\n",
       "      <th>geocodes</th>\n",
       "      <th>hours</th>\n",
       "      <th>hours_popular</th>\n",
       "      <th>location</th>\n",
       "      <th>name</th>\n",
       "      <th>rating</th>\n",
       "      <th>social_media</th>\n",
       "      <th>venue_reality_bucket</th>\n",
       "      <th>website</th>\n",
       "      <th>price</th>\n",
       "      <th>description</th>\n",
       "    </tr>\n",
       "  </thead>\n",
       "  <tbody>\n",
       "    <tr>\n",
       "      <th>0</th>\n",
       "      <td>4c192f2e4ff90f473a8c0f49</td>\n",
       "      <td>[{'id': 10051, 'name': 'Stadium', 'short_name'...</td>\n",
       "      <td>{'payment': {'credit_cards': {'accepts_credit_...</td>\n",
       "      <td>{'main': {'latitude': 51.184392, 'longitude': ...</td>\n",
       "      <td>{'display': 'Open Daily 0:00-2:00, 8:00-24:00'...</td>\n",
       "      <td>[{'close': '2100', 'day': 1, 'open': '1600'}, ...</td>\n",
       "      <td>{'address': 'Julius De Geyterstraat 133', 'cou...</td>\n",
       "      <td>T.C. Olympia Beerschot</td>\n",
       "      <td>7.5</td>\n",
       "      <td>{}</td>\n",
       "      <td>VeryHigh</td>\n",
       "      <td>http://www.tennis7deolympiade.be</td>\n",
       "      <td>NaN</td>\n",
       "      <td>NaN</td>\n",
       "    </tr>\n",
       "  </tbody>\n",
       "</table>\n",
       "</div>"
      ],
      "text/plain": [
       "                     fsq_id  \\\n",
       "0  4c192f2e4ff90f473a8c0f49   \n",
       "\n",
       "                                          categories  \\\n",
       "0  [{'id': 10051, 'name': 'Stadium', 'short_name'...   \n",
       "\n",
       "                                            features  \\\n",
       "0  {'payment': {'credit_cards': {'accepts_credit_...   \n",
       "\n",
       "                                            geocodes  \\\n",
       "0  {'main': {'latitude': 51.184392, 'longitude': ...   \n",
       "\n",
       "                                               hours  \\\n",
       "0  {'display': 'Open Daily 0:00-2:00, 8:00-24:00'...   \n",
       "\n",
       "                                       hours_popular  \\\n",
       "0  [{'close': '2100', 'day': 1, 'open': '1600'}, ...   \n",
       "\n",
       "                                            location                    name  \\\n",
       "0  {'address': 'Julius De Geyterstraat 133', 'cou...  T.C. Olympia Beerschot   \n",
       "\n",
       "   rating social_media venue_reality_bucket                           website  \\\n",
       "0     7.5           {}             VeryHigh  http://www.tennis7deolympiade.be   \n",
       "\n",
       "   price description  \n",
       "0    NaN         NaN  "
      ]
     },
     "execution_count": 3,
     "metadata": {},
     "output_type": "execute_result"
    }
   ],
   "source": [
    "df = pd.DataFrame(unpacked_samples)\n",
    "df.head(1)"
   ]
  },
  {
   "cell_type": "code",
   "execution_count": 4,
   "id": "bbb42ae1-7588-465f-ab45-1fefe62d4c53",
   "metadata": {},
   "outputs": [],
   "source": [
    "# Extracting only the info we want from the category\n",
    "df.loc[:, \"categories\"] = df['categories'].apply(lambda cats: cats[0]['short_name'] if cats and 'short_name' in cats[0] else None)\n",
    "df.drop(columns = [\"categories\"], inplace = True)"
   ]
  },
  {
   "cell_type": "markdown",
   "id": "9a5cb75f-0d6f-4ae5-b307-cebb8300ff55",
   "metadata": {},
   "source": [
    "For the geocodes"
   ]
  },
  {
   "cell_type": "code",
   "execution_count": 5,
   "id": "01439496-9fb6-4007-8ea4-1935bfce2ad3",
   "metadata": {},
   "outputs": [
    {
     "data": {
      "text/plain": [
       "{'main': {'latitude': 51.184392, 'longitude': 4.380101},\n",
       " 'roof': {'latitude': 51.184392, 'longitude': 4.380101}}"
      ]
     },
     "execution_count": 5,
     "metadata": {},
     "output_type": "execute_result"
    }
   ],
   "source": [
    "df.geocodes[0]"
   ]
  },
  {
   "cell_type": "code",
   "execution_count": 6,
   "id": "7f059516-e166-4941-8f25-a4d18208e7ba",
   "metadata": {},
   "outputs": [],
   "source": [
    "df.loc[:, \"latitude\"] = df.geocodes.apply(lambda dic: dic['main']['latitude'])\n",
    "df.loc[:, \"longitude\"] = df.geocodes.apply(lambda dic: dic['main']['longitude'])\n",
    "df.drop(columns = [\"geocodes\"], inplace = True)"
   ]
  },
  {
   "cell_type": "markdown",
   "id": "2590b608-1913-472f-a84f-220c12587349",
   "metadata": {},
   "source": [
    "For locations object. Here we can extract some interesting information"
   ]
  },
  {
   "cell_type": "code",
   "execution_count": 7,
   "id": "cb02b918-119e-4004-b629-26987eb84a41",
   "metadata": {},
   "outputs": [
    {
     "data": {
      "text/plain": [
       "{'address': 'Julius De Geyterstraat 133',\n",
       " 'country': 'BE',\n",
       " 'cross_street': '7de Olympiadelaan',\n",
       " 'formatted_address': 'Julius De Geyterstraat 133 (7de Olympiadelaan), 2020 Antwerpen',\n",
       " 'locality': 'Wilrijk',\n",
       " 'postcode': '2020',\n",
       " 'region': 'Provincie Antwerpen'}"
      ]
     },
     "execution_count": 7,
     "metadata": {},
     "output_type": "execute_result"
    }
   ],
   "source": [
    "df.location[0]"
   ]
  },
  {
   "cell_type": "code",
   "execution_count": 8,
   "id": "5d5e48b0-6a1d-40d1-a757-f83adeb519a0",
   "metadata": {},
   "outputs": [],
   "source": [
    "# Extracting all fields but formatted address (concatenated data only)\n",
    "df.loc[:, \"address\"] = df.location.apply(lambda dic: dic.get(\"address\"))\n",
    "df.loc[:, \"country\"] = df.location.apply(lambda dic: dic.get('country'))\n",
    "df.loc[:, \"locality\"] = df.location.apply(lambda dic: dic.get('locality'))\n",
    "df.loc[:, \"postcode\"] = df.location.apply(lambda dic: dic.get('postcode'))\n",
    "df.loc[:, \"region\"] = df.location.apply(lambda dic: dic.get('region'))\n",
    "df.drop(columns = [\"location\"], inplace = True)"
   ]
  },
  {
   "cell_type": "code",
   "execution_count": 9,
   "id": "3addc7ca-90b9-4410-a6ad-23d1f2c72cfa",
   "metadata": {},
   "outputs": [
    {
     "data": {
      "text/html": [
       "<div>\n",
       "<style scoped>\n",
       "    .dataframe tbody tr th:only-of-type {\n",
       "        vertical-align: middle;\n",
       "    }\n",
       "\n",
       "    .dataframe tbody tr th {\n",
       "        vertical-align: top;\n",
       "    }\n",
       "\n",
       "    .dataframe thead th {\n",
       "        text-align: right;\n",
       "    }\n",
       "</style>\n",
       "<table border=\"1\" class=\"dataframe\">\n",
       "  <thead>\n",
       "    <tr style=\"text-align: right;\">\n",
       "      <th></th>\n",
       "      <th>fsq_id</th>\n",
       "      <th>features</th>\n",
       "      <th>hours</th>\n",
       "      <th>hours_popular</th>\n",
       "      <th>name</th>\n",
       "      <th>rating</th>\n",
       "      <th>social_media</th>\n",
       "      <th>venue_reality_bucket</th>\n",
       "      <th>website</th>\n",
       "      <th>price</th>\n",
       "      <th>description</th>\n",
       "      <th>latitude</th>\n",
       "      <th>longitude</th>\n",
       "      <th>address</th>\n",
       "      <th>country</th>\n",
       "      <th>locality</th>\n",
       "      <th>postcode</th>\n",
       "      <th>region</th>\n",
       "    </tr>\n",
       "  </thead>\n",
       "  <tbody>\n",
       "    <tr>\n",
       "      <th>0</th>\n",
       "      <td>4c192f2e4ff90f473a8c0f49</td>\n",
       "      <td>{'payment': {'credit_cards': {'accepts_credit_...</td>\n",
       "      <td>{'display': 'Open Daily 0:00-2:00, 8:00-24:00'...</td>\n",
       "      <td>[{'close': '2100', 'day': 1, 'open': '1600'}, ...</td>\n",
       "      <td>T.C. Olympia Beerschot</td>\n",
       "      <td>7.5</td>\n",
       "      <td>{}</td>\n",
       "      <td>VeryHigh</td>\n",
       "      <td>http://www.tennis7deolympiade.be</td>\n",
       "      <td>NaN</td>\n",
       "      <td>NaN</td>\n",
       "      <td>51.184392</td>\n",
       "      <td>4.380101</td>\n",
       "      <td>Julius De Geyterstraat 133</td>\n",
       "      <td>BE</td>\n",
       "      <td>Wilrijk</td>\n",
       "      <td>2020</td>\n",
       "      <td>Provincie Antwerpen</td>\n",
       "    </tr>\n",
       "    <tr>\n",
       "      <th>1</th>\n",
       "      <td>4e1be4d16284102ec19833df</td>\n",
       "      <td>{}</td>\n",
       "      <td>{'is_local_holiday': False, 'open_now': False}</td>\n",
       "      <td>[{'close': '1200', 'day': 1, 'open': '1100'}, ...</td>\n",
       "      <td>Jamil</td>\n",
       "      <td>7.4</td>\n",
       "      <td>{}</td>\n",
       "      <td>VeryHigh</td>\n",
       "      <td>http://www.prima.be</td>\n",
       "      <td>NaN</td>\n",
       "      <td>NaN</td>\n",
       "      <td>51.183157</td>\n",
       "      <td>4.379273</td>\n",
       "      <td>None</td>\n",
       "      <td>BE</td>\n",
       "      <td>Antwerpen</td>\n",
       "      <td>None</td>\n",
       "      <td>Provincie Antwerpen</td>\n",
       "    </tr>\n",
       "    <tr>\n",
       "      <th>2</th>\n",
       "      <td>5b9d01ff772fbc002cf25023</td>\n",
       "      <td>{}</td>\n",
       "      <td>{'display': 'Tue-Sun 8:30-22:00', 'is_local_ho...</td>\n",
       "      <td>NaN</td>\n",
       "      <td>Okka</td>\n",
       "      <td>8.0</td>\n",
       "      <td>{}</td>\n",
       "      <td>High</td>\n",
       "      <td>http://okka.be</td>\n",
       "      <td>2.0</td>\n",
       "      <td>NaN</td>\n",
       "      <td>51.184223</td>\n",
       "      <td>4.373664</td>\n",
       "      <td>Sint-Bernardsesteenweg 313</td>\n",
       "      <td>BE</td>\n",
       "      <td>Provincie Antwerpen</td>\n",
       "      <td>2660</td>\n",
       "      <td>Provincie Antwerpen</td>\n",
       "    </tr>\n",
       "    <tr>\n",
       "      <th>3</th>\n",
       "      <td>4cc83111afcfb713445b7089</td>\n",
       "      <td>{'payment': {'credit_cards': {'accepts_credit_...</td>\n",
       "      <td>{'display': 'Thu 17:00-19:00', 'is_local_holid...</td>\n",
       "      <td>[{'close': '2100', 'day': 3, 'open': '1900'}, ...</td>\n",
       "      <td>Olympisch Stadion</td>\n",
       "      <td>7.7</td>\n",
       "      <td>{'facebook_id': '116625381718227', 'twitter': ...</td>\n",
       "      <td>VeryHigh</td>\n",
       "      <td>http://www.beerschotwilrijk.be</td>\n",
       "      <td>NaN</td>\n",
       "      <td>NaN</td>\n",
       "      <td>51.183998</td>\n",
       "      <td>4.382336</td>\n",
       "      <td>Atletenstraat 80</td>\n",
       "      <td>BE</td>\n",
       "      <td>Antwerpen</td>\n",
       "      <td>2020</td>\n",
       "      <td>Provincie Antwerpen</td>\n",
       "    </tr>\n",
       "    <tr>\n",
       "      <th>4</th>\n",
       "      <td>4cdadc8899026dcb8b0a0981</td>\n",
       "      <td>{'payment': {'credit_cards': {'accepts_credit_...</td>\n",
       "      <td>{'is_local_holiday': False, 'open_now': False}</td>\n",
       "      <td>[{'close': '2200', 'day': 1, 'open': '1700'}, ...</td>\n",
       "      <td>Ling Nan bvba</td>\n",
       "      <td>8.2</td>\n",
       "      <td>{'facebook_id': '372364609448661'}</td>\n",
       "      <td>VeryHigh</td>\n",
       "      <td>http://www.lingnan.be</td>\n",
       "      <td>1.0</td>\n",
       "      <td>NaN</td>\n",
       "      <td>51.183249</td>\n",
       "      <td>4.382782</td>\n",
       "      <td>VIIde Olympiadelaan 138</td>\n",
       "      <td>BE</td>\n",
       "      <td>Kiel</td>\n",
       "      <td>2020</td>\n",
       "      <td>Provincie Antwerpen</td>\n",
       "    </tr>\n",
       "  </tbody>\n",
       "</table>\n",
       "</div>"
      ],
      "text/plain": [
       "                     fsq_id  \\\n",
       "0  4c192f2e4ff90f473a8c0f49   \n",
       "1  4e1be4d16284102ec19833df   \n",
       "2  5b9d01ff772fbc002cf25023   \n",
       "3  4cc83111afcfb713445b7089   \n",
       "4  4cdadc8899026dcb8b0a0981   \n",
       "\n",
       "                                            features  \\\n",
       "0  {'payment': {'credit_cards': {'accepts_credit_...   \n",
       "1                                                 {}   \n",
       "2                                                 {}   \n",
       "3  {'payment': {'credit_cards': {'accepts_credit_...   \n",
       "4  {'payment': {'credit_cards': {'accepts_credit_...   \n",
       "\n",
       "                                               hours  \\\n",
       "0  {'display': 'Open Daily 0:00-2:00, 8:00-24:00'...   \n",
       "1     {'is_local_holiday': False, 'open_now': False}   \n",
       "2  {'display': 'Tue-Sun 8:30-22:00', 'is_local_ho...   \n",
       "3  {'display': 'Thu 17:00-19:00', 'is_local_holid...   \n",
       "4     {'is_local_holiday': False, 'open_now': False}   \n",
       "\n",
       "                                       hours_popular                    name  \\\n",
       "0  [{'close': '2100', 'day': 1, 'open': '1600'}, ...  T.C. Olympia Beerschot   \n",
       "1  [{'close': '1200', 'day': 1, 'open': '1100'}, ...                   Jamil   \n",
       "2                                                NaN                    Okka   \n",
       "3  [{'close': '2100', 'day': 3, 'open': '1900'}, ...       Olympisch Stadion   \n",
       "4  [{'close': '2200', 'day': 1, 'open': '1700'}, ...           Ling Nan bvba   \n",
       "\n",
       "   rating                                       social_media  \\\n",
       "0     7.5                                                 {}   \n",
       "1     7.4                                                 {}   \n",
       "2     8.0                                                 {}   \n",
       "3     7.7  {'facebook_id': '116625381718227', 'twitter': ...   \n",
       "4     8.2                 {'facebook_id': '372364609448661'}   \n",
       "\n",
       "  venue_reality_bucket                           website  price description  \\\n",
       "0             VeryHigh  http://www.tennis7deolympiade.be    NaN         NaN   \n",
       "1             VeryHigh               http://www.prima.be    NaN         NaN   \n",
       "2                 High                    http://okka.be    2.0         NaN   \n",
       "3             VeryHigh    http://www.beerschotwilrijk.be    NaN         NaN   \n",
       "4             VeryHigh             http://www.lingnan.be    1.0         NaN   \n",
       "\n",
       "    latitude  longitude                     address country  \\\n",
       "0  51.184392   4.380101  Julius De Geyterstraat 133      BE   \n",
       "1  51.183157   4.379273                        None      BE   \n",
       "2  51.184223   4.373664  Sint-Bernardsesteenweg 313      BE   \n",
       "3  51.183998   4.382336            Atletenstraat 80      BE   \n",
       "4  51.183249   4.382782     VIIde Olympiadelaan 138      BE   \n",
       "\n",
       "              locality postcode               region  \n",
       "0              Wilrijk     2020  Provincie Antwerpen  \n",
       "1            Antwerpen     None  Provincie Antwerpen  \n",
       "2  Provincie Antwerpen     2660  Provincie Antwerpen  \n",
       "3            Antwerpen     2020  Provincie Antwerpen  \n",
       "4                 Kiel     2020  Provincie Antwerpen  "
      ]
     },
     "execution_count": 9,
     "metadata": {},
     "output_type": "execute_result"
    }
   ],
   "source": [
    "df.head(5)"
   ]
  },
  {
   "cell_type": "code",
   "execution_count": 10,
   "id": "176b9a99-f5e0-4ca9-8b2a-d422513701fb",
   "metadata": {},
   "outputs": [
    {
     "data": {
      "text/plain": [
       "{'payment': {'credit_cards': {'accepts_credit_cards': True}}}"
      ]
     },
     "execution_count": 10,
     "metadata": {},
     "output_type": "execute_result"
    }
   ],
   "source": [
    "df.features[0]\n",
    "# This field has only information about credit card usage. We will just extract data from it when it does"
   ]
  },
  {
   "cell_type": "code",
   "execution_count": 11,
   "id": "2396e8e8-dcc6-45df-bd71-724e5dfc3633",
   "metadata": {},
   "outputs": [],
   "source": [
    "# Features treatment\n",
    "def unpack_credit_card(obj: dict or float) -> bool or float:\n",
    "    if isinstance(obj, float):\n",
    "        return None\n",
    "    else:\n",
    "        try:\n",
    "            var: bool = bool(obj.get(\"payment\").get(\"credit_cards\").get(\"accepts_credit_cards\"))\n",
    "        except Exception as e:\n",
    "            var: float = None\n",
    "        return var\n",
    "        \n",
    "df.loc[:, \"accepts_pinpas\"] = df.features.apply(lambda obj: unpack_credit_card(obj))\n",
    "df.drop(columns = [\"features\"], inplace = True)"
   ]
  },
  {
   "cell_type": "code",
   "execution_count": 12,
   "id": "08461665-01ae-4862-b92d-0318fcb15ae2",
   "metadata": {},
   "outputs": [
    {
     "data": {
      "text/html": [
       "<div>\n",
       "<style scoped>\n",
       "    .dataframe tbody tr th:only-of-type {\n",
       "        vertical-align: middle;\n",
       "    }\n",
       "\n",
       "    .dataframe tbody tr th {\n",
       "        vertical-align: top;\n",
       "    }\n",
       "\n",
       "    .dataframe thead th {\n",
       "        text-align: right;\n",
       "    }\n",
       "</style>\n",
       "<table border=\"1\" class=\"dataframe\">\n",
       "  <thead>\n",
       "    <tr style=\"text-align: right;\">\n",
       "      <th></th>\n",
       "      <th>fsq_id</th>\n",
       "      <th>hours</th>\n",
       "      <th>hours_popular</th>\n",
       "      <th>name</th>\n",
       "      <th>rating</th>\n",
       "      <th>social_media</th>\n",
       "      <th>venue_reality_bucket</th>\n",
       "      <th>website</th>\n",
       "      <th>price</th>\n",
       "      <th>description</th>\n",
       "      <th>latitude</th>\n",
       "      <th>longitude</th>\n",
       "      <th>address</th>\n",
       "      <th>country</th>\n",
       "      <th>locality</th>\n",
       "      <th>postcode</th>\n",
       "      <th>region</th>\n",
       "      <th>accepts_pinpas</th>\n",
       "    </tr>\n",
       "  </thead>\n",
       "  <tbody>\n",
       "    <tr>\n",
       "      <th>0</th>\n",
       "      <td>4c192f2e4ff90f473a8c0f49</td>\n",
       "      <td>{'display': 'Open Daily 0:00-2:00, 8:00-24:00'...</td>\n",
       "      <td>[{'close': '2100', 'day': 1, 'open': '1600'}, ...</td>\n",
       "      <td>T.C. Olympia Beerschot</td>\n",
       "      <td>7.5</td>\n",
       "      <td>{}</td>\n",
       "      <td>VeryHigh</td>\n",
       "      <td>http://www.tennis7deolympiade.be</td>\n",
       "      <td>NaN</td>\n",
       "      <td>NaN</td>\n",
       "      <td>51.184392</td>\n",
       "      <td>4.380101</td>\n",
       "      <td>Julius De Geyterstraat 133</td>\n",
       "      <td>BE</td>\n",
       "      <td>Wilrijk</td>\n",
       "      <td>2020</td>\n",
       "      <td>Provincie Antwerpen</td>\n",
       "      <td>True</td>\n",
       "    </tr>\n",
       "  </tbody>\n",
       "</table>\n",
       "</div>"
      ],
      "text/plain": [
       "                     fsq_id  \\\n",
       "0  4c192f2e4ff90f473a8c0f49   \n",
       "\n",
       "                                               hours  \\\n",
       "0  {'display': 'Open Daily 0:00-2:00, 8:00-24:00'...   \n",
       "\n",
       "                                       hours_popular                    name  \\\n",
       "0  [{'close': '2100', 'day': 1, 'open': '1600'}, ...  T.C. Olympia Beerschot   \n",
       "\n",
       "   rating social_media venue_reality_bucket                           website  \\\n",
       "0     7.5           {}             VeryHigh  http://www.tennis7deolympiade.be   \n",
       "\n",
       "   price description   latitude  longitude                     address  \\\n",
       "0    NaN         NaN  51.184392   4.380101  Julius De Geyterstraat 133   \n",
       "\n",
       "  country locality postcode               region accepts_pinpas  \n",
       "0      BE  Wilrijk     2020  Provincie Antwerpen           True  "
      ]
     },
     "execution_count": 12,
     "metadata": {},
     "output_type": "execute_result"
    }
   ],
   "source": [
    "df.head(1)"
   ]
  },
  {
   "cell_type": "markdown",
   "id": "f3a16a4d-84fb-4d2d-a406-d3d1ff228d0b",
   "metadata": {},
   "source": [
    "### Social media treatment"
   ]
  },
  {
   "cell_type": "code",
   "execution_count": 13,
   "id": "3630a47d-cd93-4e2b-9bfe-be9f67da3cfe",
   "metadata": {},
   "outputs": [
    {
     "data": {
      "text/plain": [
       "[dict_keys(['facebook_id']),\n",
       " dict_keys(['facebook_id', 'instagram', 'twitter']),\n",
       " dict_keys([]),\n",
       " dict_keys(['facebook_id']),\n",
       " dict_keys([]),\n",
       " dict_keys([]),\n",
       " dict_keys(['facebook_id']),\n",
       " dict_keys(['facebook_id']),\n",
       " dict_keys(['facebook_id', 'instagram', 'twitter']),\n",
       " dict_keys([]),\n",
       " dict_keys([])]"
      ]
     },
     "execution_count": 13,
     "metadata": {},
     "output_type": "execute_result"
    }
   ],
   "source": [
    "[item.keys() for item in df.social_media][4:15]"
   ]
  },
  {
   "cell_type": "code",
   "execution_count": 14,
   "id": "7ae61245-bdea-4810-b028-e25322e9d997",
   "metadata": {},
   "outputs": [],
   "source": [
    "def unpack_social_media(obj:dict or float, media: str) -> bool:\n",
    "    medias_obj = {\n",
    "        \"facebook\" : \"facebook_id\",\n",
    "        \"instagram\" :  \"instagram\",\n",
    "        \"twitter\" : \"twitter\"\n",
    "    }\n",
    "    assert media in medias_obj.keys(), \"Wrong media.\"\n",
    "    \n",
    "    if isinstance(obj, float) or obj == {}:\n",
    "        return None\n",
    "    else:\n",
    "        key: str = medias_obj[media]\n",
    "        return obj.get(key)\n",
    "\n",
    "df.loc[:, \"facebook_id\"] = df.social_media.apply(lambda obj: unpack_social_media(obj, \"facebook\"))\n",
    "df.loc[:, \"instagram\"] = df.social_media.apply(lambda obj: unpack_social_media(obj, \"instagram\"))      \n",
    "df.loc[:, \"twitter\"] = df.social_media.apply(lambda obj: unpack_social_media(obj, \"twitter\"))\n",
    "df.drop(columns = ['social_media'], inplace = True)"
   ]
  },
  {
   "cell_type": "code",
   "execution_count": 15,
   "id": "c57d1724-5b26-4ec3-8856-4ff7401d12b0",
   "metadata": {},
   "outputs": [
    {
     "data": {
      "text/plain": [
       "{'display': 'Thu 17:00-19:00',\n",
       " 'is_local_holiday': False,\n",
       " 'open_now': False,\n",
       " 'regular': [{'close': '1900', 'day': 4, 'open': '1700'}]}"
      ]
     },
     "execution_count": 15,
     "metadata": {},
     "output_type": "execute_result"
    }
   ],
   "source": [
    "df.hours[3]"
   ]
  },
  {
   "cell_type": "markdown",
   "id": "96caf521-aa04-4044-867f-cbdd8e3e867c",
   "metadata": {},
   "source": [
    "#### Regular Hours Treatment"
   ]
  },
  {
   "cell_type": "code",
   "execution_count": 16,
   "id": "387d61f2-9b13-48f1-ac10-e924645b2e15",
   "metadata": {},
   "outputs": [],
   "source": [
    "df.loc[:, \"hours_display\"] = df.hours.apply(lambda dic: dic.get('display'))\n",
    "df.loc[:, \"hours_regular\"] = df.hours.apply(lambda dic: dic.get('regular'))\n",
    "df.drop(columns = [\"hours\"], inplace = True)"
   ]
  },
  {
   "cell_type": "code",
   "execution_count": 17,
   "id": "eb2314aa-44e6-4f7b-9ed5-20a59916e74c",
   "metadata": {},
   "outputs": [
    {
     "data": {
      "text/plain": [
       "[{'close': '2100', 'day': 1, 'open': '1600'},\n",
       " {'close': '2200', 'day': 2, 'open': '1600'},\n",
       " {'close': '2100', 'day': 3, 'open': '1600'},\n",
       " {'close': '2300', 'day': 4, 'open': '1500'},\n",
       " {'close': '2200', 'day': 5, 'open': '1600'},\n",
       " {'close': '2100', 'day': 6, 'open': '0900'},\n",
       " {'close': '2000', 'day': 7, 'open': '1100'}]"
      ]
     },
     "execution_count": 17,
     "metadata": {},
     "output_type": "execute_result"
    }
   ],
   "source": [
    "df.hours_popular[0]"
   ]
  },
  {
   "cell_type": "code",
   "execution_count": 18,
   "id": "0ebc4804-71c8-436a-b3ab-90e90276dccd",
   "metadata": {},
   "outputs": [
    {
     "data": {
      "text/plain": [
       "fsq_id                   object\n",
       "hours_popular            object\n",
       "name                     object\n",
       "rating                  float64\n",
       "venue_reality_bucket     object\n",
       "website                  object\n",
       "price                   float64\n",
       "description              object\n",
       "latitude                float64\n",
       "longitude               float64\n",
       "address                  object\n",
       "country                  object\n",
       "locality                 object\n",
       "postcode                 object\n",
       "region                   object\n",
       "accepts_pinpas           object\n",
       "facebook_id              object\n",
       "instagram                object\n",
       "twitter                  object\n",
       "hours_display            object\n",
       "hours_regular            object\n",
       "dtype: object"
      ]
     },
     "execution_count": 18,
     "metadata": {},
     "output_type": "execute_result"
    }
   ],
   "source": [
    "df.dtypes"
   ]
  },
  {
   "cell_type": "markdown",
   "id": "166d0669-bdbc-47c2-aafd-09e940c311c2",
   "metadata": {},
   "source": [
    "Now we got to ensure all columns have a single type. That will make the export easier to bigquery"
   ]
  },
  {
   "cell_type": "code",
   "execution_count": 19,
   "id": "07f62411-24e4-4199-b022-e5776cabafce",
   "metadata": {},
   "outputs": [
    {
     "data": {
      "text/plain": [
       "Index(['fsq_id', 'hours_popular', 'name', 'rating', 'venue_reality_bucket',\n",
       "       'website', 'price', 'description', 'latitude', 'longitude', 'address',\n",
       "       'country', 'locality', 'postcode', 'region', 'accepts_pinpas',\n",
       "       'facebook_id', 'instagram', 'twitter', 'hours_display',\n",
       "       'hours_regular'],\n",
       "      dtype='object')"
      ]
     },
     "execution_count": 19,
     "metadata": {},
     "output_type": "execute_result"
    }
   ],
   "source": [
    "df.columns"
   ]
  },
  {
   "cell_type": "code",
   "execution_count": 20,
   "id": "a2f68f07-221c-441d-b0ff-3ac3f2b1520c",
   "metadata": {},
   "outputs": [],
   "source": [
    "def convert_columns(df):\n",
    "    dtype_mapping = {\n",
    "        'fsq_id': str,\n",
    "        'name': str,\n",
    "        'venue_reality_bucket': str,\n",
    "        'website': str,\n",
    "        'price': str,\n",
    "        'description': str,\n",
    "        'address': str,\n",
    "        'country': str,\n",
    "        'locality': str,\n",
    "        'region': str,\n",
    "        'facebook_id': str,\n",
    "        'instagram': str,\n",
    "        'twitter': str,\n",
    "        'hours_display': str,\n",
    "        'rating': float,\n",
    "        'latitude': float,\n",
    "        'longitude': float,\n",
    "        'postcode': 'Int64',  # Nullable integer type\n",
    "        'accepts_pinpas': bool,\n",
    "        'hours_popular': object,  # Will keep as list[dict]\n",
    "        'hours_regular': object   # Will keep as list[dict]\n",
    "    }\n",
    "    \n",
    "    # Apply type conversions\n",
    "    for col, dtype in dtype_mapping.items():\n",
    "        if col in df.columns:\n",
    "            if dtype == str:\n",
    "                df[col] = df[col].astype(str)\n",
    "            elif dtype in [float, int]:\n",
    "                df[col] = pd.to_numeric(df[col], errors='coerce')\n",
    "            elif dtype == 'Int64':\n",
    "                df[col] = pd.to_numeric(df[col], errors='coerce').astype('Int64')\n",
    "    \n",
    "    return df\n",
    "\n",
    "df = convert_columns(df)"
   ]
  },
  {
   "cell_type": "code",
   "execution_count": 21,
   "id": "929201ab-ef17-4199-b647-598024a7e15f",
   "metadata": {},
   "outputs": [],
   "source": [
    "df['hours_popular'] = df['hours_popular'].apply(json.dumps)\n",
    "df['hours_regular'] = df['hours_regular'].apply(json.dumps)"
   ]
  },
  {
   "cell_type": "code",
   "execution_count": 25,
   "id": "f50bd6ad-5e6f-4b2b-9f19-d33a4bb71b82",
   "metadata": {},
   "outputs": [
    {
     "data": {
      "text/plain": [
       "fsq_id                                           4c192f2e4ff90f473a8c0f49\n",
       "hours_popular           [{\"close\": \"2100\", \"day\": 1, \"open\": \"1600\"}, ...\n",
       "name                                               T.C. Olympia Beerschot\n",
       "rating                                                                7.5\n",
       "venue_reality_bucket                                             VeryHigh\n",
       "website                                  http://www.tennis7deolympiade.be\n",
       "price                                                                 nan\n",
       "description                                                           nan\n",
       "latitude                                                        51.184392\n",
       "longitude                                                        4.380101\n",
       "address                                        Julius De Geyterstraat 133\n",
       "country                                                                BE\n",
       "locality                                                          Wilrijk\n",
       "postcode                                                             2020\n",
       "region                                                Provincie Antwerpen\n",
       "accepts_pinpas                                                       True\n",
       "facebook_id                                                          None\n",
       "instagram                                                            None\n",
       "twitter                                                              None\n",
       "hours_display                            Open Daily 0:00-2:00, 8:00-24:00\n",
       "hours_regular           [{\"close\": \"0200\", \"day\": 1, \"open\": \"0000\"}, ...\n",
       "Name: 0, dtype: object"
      ]
     },
     "execution_count": 25,
     "metadata": {},
     "output_type": "execute_result"
    }
   ],
   "source": [
    "df.loc[0]"
   ]
  }
 ],
 "metadata": {
  "kernelspec": {
   "display_name": "Python 3 (ipykernel)",
   "language": "python",
   "name": "python3"
  },
  "language_info": {
   "codemirror_mode": {
    "name": "ipython",
    "version": 3
   },
   "file_extension": ".py",
   "mimetype": "text/x-python",
   "name": "python",
   "nbconvert_exporter": "python",
   "pygments_lexer": "ipython3",
   "version": "3.12.11"
  }
 },
 "nbformat": 4,
 "nbformat_minor": 5
}
