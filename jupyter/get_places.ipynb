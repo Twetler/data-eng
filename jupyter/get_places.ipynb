{
 "cells": [
  {
   "cell_type": "markdown",
   "id": "a9565cd3-4924-42fe-9b95-edb2f8c539ac",
   "metadata": {},
   "source": [
    "# Get Places\n",
    "\n",
    "We will study the layout of the output from the API"
   ]
  },
  {
   "cell_type": "code",
   "execution_count": 61,
   "id": "74cf4aec-0801-461d-a0c2-7869a256a8b1",
   "metadata": {},
   "outputs": [],
   "source": [
    "import pandas as pd\n",
    "import json\n",
    "import folium"
   ]
  },
  {
   "cell_type": "code",
   "execution_count": null,
   "id": "63dbb1a0-af65-4ea1-9874-07c5149f8397",
   "metadata": {},
   "outputs": [],
   "source": [
    "import os"
   ]
  },
  {
   "cell_type": "code",
   "execution_count": 62,
   "id": "6ee4e1ae-6bd5-4e69-9aa4-c5ec953af866",
   "metadata": {},
   "outputs": [],
   "source": [
    "# Load json \n",
    "walk_path: str = \"../tmp/\"\n",
    "samples: list = list()\n",
    "for _,_, files in os.walk(walk_path):\n",
    "    for file in files:\n",
    "        with open(example_path) as f:\n",
    "            loaded_var: dict = json.load(f)\n",
    "        results: list[dict] = loaded_var['results']\n",
    "        samples.append(results)\n",
    "    "
   ]
  },
  {
   "cell_type": "code",
   "execution_count": 60,
   "id": "9cec1110-4c36-48cf-9d57-7e70ac4b020c",
   "metadata": {},
   "outputs": [
    {
     "data": {
      "text/plain": [
       "[10, 10, 10, 10, 10]"
      ]
     },
     "execution_count": 60,
     "metadata": {},
     "output_type": "execute_result"
    }
   ],
   "source": [
    "[len(i) for i in samples]"
   ]
  },
  {
   "cell_type": "code",
   "execution_count": 36,
   "id": "767346c3-8cd2-4107-b8fd-c2eda41e2f89",
   "metadata": {},
   "outputs": [],
   "source": [
    "df = pd.json_normalize(\n",
    "    results,\n",
    "    sep='_',  # Use underscore to join keys\n",
    "    max_level=0  # Avoid flattening hours_popular/regular lists into columns\n",
    ")"
   ]
  },
  {
   "cell_type": "code",
   "execution_count": 63,
   "id": "bbb42ae1-7588-465f-ab45-1fefe62d4c53",
   "metadata": {},
   "outputs": [],
   "source": [
    "df = pd.DataFrame(results)"
   ]
  },
  {
   "cell_type": "code",
   "execution_count": 65,
   "id": "3addc7ca-90b9-4410-a6ad-23d1f2c72cfa",
   "metadata": {},
   "outputs": [
    {
     "data": {
      "text/html": [
       "<div>\n",
       "<style scoped>\n",
       "    .dataframe tbody tr th:only-of-type {\n",
       "        vertical-align: middle;\n",
       "    }\n",
       "\n",
       "    .dataframe tbody tr th {\n",
       "        vertical-align: top;\n",
       "    }\n",
       "\n",
       "    .dataframe thead th {\n",
       "        text-align: right;\n",
       "    }\n",
       "</style>\n",
       "<table border=\"1\" class=\"dataframe\">\n",
       "  <thead>\n",
       "    <tr style=\"text-align: right;\">\n",
       "      <th></th>\n",
       "      <th>fsq_id</th>\n",
       "      <th>categories</th>\n",
       "      <th>chains</th>\n",
       "      <th>closed_bucket</th>\n",
       "      <th>distance</th>\n",
       "      <th>geocodes</th>\n",
       "      <th>link</th>\n",
       "      <th>location</th>\n",
       "      <th>name</th>\n",
       "      <th>related_places</th>\n",
       "      <th>timezone</th>\n",
       "    </tr>\n",
       "  </thead>\n",
       "  <tbody>\n",
       "    <tr>\n",
       "      <th>0</th>\n",
       "      <td>148f444f6fed4e9fcaaec895</td>\n",
       "      <td>[]</td>\n",
       "      <td>[]</td>\n",
       "      <td>LikelyOpen</td>\n",
       "      <td>52</td>\n",
       "      <td>{'drop_off': {'latitude': 51.18066, 'longitude...</td>\n",
       "      <td>/v3/places/148f444f6fed4e9fcaaec895</td>\n",
       "      <td>{'address': 'Glasstraat 37', 'country': 'BE', ...</td>\n",
       "      <td>Mb Industrial Piping</td>\n",
       "      <td>{}</td>\n",
       "      <td>Europe/Brussels</td>\n",
       "    </tr>\n",
       "  </tbody>\n",
       "</table>\n",
       "</div>"
      ],
      "text/plain": [
       "                     fsq_id categories chains closed_bucket  distance  \\\n",
       "0  148f444f6fed4e9fcaaec895         []     []    LikelyOpen        52   \n",
       "\n",
       "                                            geocodes  \\\n",
       "0  {'drop_off': {'latitude': 51.18066, 'longitude...   \n",
       "\n",
       "                                  link  \\\n",
       "0  /v3/places/148f444f6fed4e9fcaaec895   \n",
       "\n",
       "                                            location                  name  \\\n",
       "0  {'address': 'Glasstraat 37', 'country': 'BE', ...  Mb Industrial Piping   \n",
       "\n",
       "  related_places         timezone  \n",
       "0             {}  Europe/Brussels  "
      ]
     },
     "execution_count": 65,
     "metadata": {},
     "output_type": "execute_result"
    }
   ],
   "source": [
    "df"
   ]
  },
  {
   "cell_type": "code",
   "execution_count": null,
   "id": "3c3cbca7-3733-4945-9068-73f0dd4f20e3",
   "metadata": {},
   "outputs": [],
   "source": []
  }
 ],
 "metadata": {
  "kernelspec": {
   "display_name": "Python 3 (ipykernel)",
   "language": "python",
   "name": "python3"
  },
  "language_info": {
   "codemirror_mode": {
    "name": "ipython",
    "version": 3
   },
   "file_extension": ".py",
   "mimetype": "text/x-python",
   "name": "python",
   "nbconvert_exporter": "python",
   "pygments_lexer": "ipython3",
   "version": "3.12.11"
  }
 },
 "nbformat": 4,
 "nbformat_minor": 5
}
